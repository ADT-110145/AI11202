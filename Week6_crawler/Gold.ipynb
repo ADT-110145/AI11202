{
  "nbformat": 4,
  "nbformat_minor": 0,
  "metadata": {
    "colab": {
      "provenance": []
    },
    "kernelspec": {
      "name": "python3",
      "display_name": "Python 3"
    },
    "language_info": {
      "name": "python"
    }
  },
  "cells": [
    {
      "cell_type": "code",
      "execution_count": 1,
      "metadata": {
        "colab": {
          "base_uri": "https://localhost:8080/"
        },
        "id": "PwI9yUQTAT65",
        "outputId": "d3be8205-f842-4931-ff78-e1d046f696aa"
      },
      "outputs": [
        {
          "output_type": "stream",
          "name": "stdout",
          "text": [
            "黃金買進: 1999\n",
            "黃金賣出: 2030\n"
          ]
        }
      ],
      "source": [
        "import urllib.request as request\n",
        "from bs4 import BeautifulSoup as sp\n",
        "import requests\n",
        "\n",
        "url = \"https://rate.bot.com.tw/gold?Lang=zh-TW\"\n",
        "with request.urlopen(url) as response:\n",
        "  data=response.read().decode(\"utf-8\")\n",
        "  root = sp(data, \"html.parser\")\n",
        "  gold_in = (root.find_all(\"td\")[5].text.replace(\"回售\", \"\").strip())\n",
        "  gold_out = (root.find_all(\"td\")[2].text.replace(\"買進\", \"\").strip())\n",
        "  s1 = (\"黃金買進: \"+gold_in+\"\\n黃金賣出: \"+gold_out)\n",
        "  print(s1)\n"
      ]
    }
  ]
}