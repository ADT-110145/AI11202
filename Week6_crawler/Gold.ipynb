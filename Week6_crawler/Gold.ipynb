{
  "nbformat": 4,
  "nbformat_minor": 0,
  "metadata": {
    "colab": {
      "provenance": []
    },
    "kernelspec": {
      "name": "python3",
      "display_name": "Python 3"
    },
    "language_info": {
      "name": "python"
    }
  },
  "cells": [
    {
      "cell_type": "code",
      "execution_count": null,
      "metadata": {
        "colab": {
          "base_uri": "https://localhost:8080/"
        },
        "id": "PwI9yUQTAT65",
        "outputId": "8a2944d4-1432-45ce-9083-3dba8056488a"
      },
      "outputs": [
        {
          "output_type": "stream",
          "name": "stdout",
          "text": [
            "2023/10/18 22:17:45\n",
            "黃金買進: 1999\n",
            "黃金賣出: 2030\n"
          ]
        }
      ],
      "source": [
        "import pytz\n",
        "import datetime\n",
        "import urllib.request as request\n",
        "from bs4 import BeautifulSoup as sp\n",
        "import requests\n",
        "\n",
        "taipei_tz = pytz.timezone('Asia/Taipei')\n",
        "taipei_time = datetime.datetime.now(taipei_tz)\n",
        "taipei_time_str = taipei_time.strftime('%Y/%m/%d %H:%M:%S\\n')\n",
        "\n",
        "url = \"https://rate.bot.com.tw/gold?Lang=zh-TW\"\n",
        "with request.urlopen(url) as response:\n",
        "  data=response.read().decode(\"utf-8\")\n",
        "  root = sp(data,\"html.parser\")\n",
        "  gold_in = (root.find_all(\"td\")[5].text.replace(\"回售\", \"\").strip())\n",
        "  gold_out = (root.find_all(\"td\")[2].text.replace(\"買進\", \"\").strip())\n",
        "  s1 = (\"黃金買進: \"+gold_in+\"\\n黃金賣出: \"+gold_out)\n",
        "  print(taipei_time_str+s1)\n"
      ]
    }
  ]
}