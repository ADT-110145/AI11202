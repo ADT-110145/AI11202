{
  "nbformat": 4,
  "nbformat_minor": 0,
  "metadata": {
    "colab": {
      "provenance": []
    },
    "kernelspec": {
      "name": "python3",
      "display_name": "Python 3"
    },
    "language_info": {
      "name": "python"
    }
  },
  "cells": [
    {
      "cell_type": "code",
      "execution_count": 2,
      "metadata": {
        "colab": {
          "base_uri": "https://localhost:8080/"
        },
        "id": "jqAsTQYotGN6",
        "outputId": "bc2e56b5-2905-4104-a3fa-1cc0934d4154"
      },
      "outputs": [
        {
          "output_type": "stream",
          "name": "stdout",
          "text": [
            "標題：寒流- 維基百科，自由的百科全書zh.wikipedia.org › wiki › 寒潮\n",
            "網址：/url?q=https://zh.wikipedia.org/wiki/%25E5%25AF%2592%25E6%25BD%25AE&sa=U&ved=2ahUKEwjR1suli4CCAxWZEFkFHZQUB-EQFnoECAoQAg&usg=AOvVaw3ISqcJcGFMYRbagntehHqh\n",
            "標題：寒流_百度百科baike.baidu.com › item › 寒流\n",
            "網址：/url?q=https://baike.baidu.com/item/%25E5%25AF%2592%25E6%25B5%2581/2857686&sa=U&ved=2ahUKEwjR1suli4CCAxWZEFkFHZQUB-EQFnoECAwQAg&usg=AOvVaw0rO85Yafq-ZWLd1RlQSCqf\n",
            "標題：寒流- 维基百科，自由的百科全书zh.wikipedia.org › zh-hans › 寒流\n",
            "網址：/url?q=https://zh.wikipedia.org/zh-hans/%25E5%25AF%2592%25E6%25B5%2581&sa=U&ved=2ahUKEwjR1suli4CCAxWZEFkFHZQUB-EQFnoECAkQAg&usg=AOvVaw3XK-kTc15ALF7V0Qz-fZGc\n",
            "標題：寒流与寒潮的区别-水务知识-深圳市罗湖区人民政府门户网站www.szlh.gov.cn › 政民互动 › 业务知识库 › 水务知识\n",
            "網址：/url?q=http://www.szlh.gov.cn/zmhd/ywzsk/swzs/content/post_9287494.html&sa=U&ved=2ahUKEwjR1suli4CCAxWZEFkFHZQUB-EQFnoECAMQAg&usg=AOvVaw3xLSGSVgnOP5jyKWJ2q4kJ\n",
            "標題：冷空气、寒潮和寒流的区别 - 中国气象局www.cma.gov.cn › kppd › kppdsytj\n",
            "網址：/url?q=https://www.cma.gov.cn/kppd/kppdsytj/201310/t20131023_229484.html&sa=U&ved=2ahUKEwjR1suli4CCAxWZEFkFHZQUB-EQFnoECAEQAg&usg=AOvVaw0D6WuFjZdy1Yrhz-da7CTR\n",
            "標題：IAP科普君：冷空气、冷锋、寒潮、寒流 - 中国科学院大气物理研究所www.iap.cas.cn › 科学传播 › 科普文章\n",
            "網址：/url?q=http://www.iap.cas.cn/gb/kxcb_165476/kpwz_165480/202004/t20200417_5551392.html&sa=U&ved=2ahUKEwjR1suli4CCAxWZEFkFHZQUB-EQFnoECAcQAg&usg=AOvVaw2ExHE6w3Qpygo-b-3TledY\n",
            "標題：辭典檢視[寒流: ㄏㄢˊ ㄌㄧㄡˊ] - 教育部《重編國語辭典修訂本》2021dict.revised.moe.edu.tw › dictView\n",
            "網址：/url?q=https://dict.revised.moe.edu.tw/dictView.jsp%3FID%3D81770%26la%3D0%26powerMode%3D0&sa=U&ved=2ahUKEwjR1suli4CCAxWZEFkFHZQUB-EQFnoECAIQAg&usg=AOvVaw38HqPLrL6zsOrg1mFl-Tx1\n",
            "標題：低溫特報| 交通部中央氣象署www.cwa.gov.tw › Warning\n",
            "網址：/url?q=https://www.cwa.gov.tw/V8/C/P/Warning/W28.html&sa=U&ved=2ahUKEwjR1suli4CCAxWZEFkFHZQUB-EQFnoECAYQAg&usg=AOvVaw2tTeJGvuUCgIHzqkizu0DL\n",
            "標題：寒潮与寒流 - 中国气象局www.cma.gov.cn › kppd › kppdqxwq › kppdjckp\n",
            "網址：/url?q=https://www.cma.gov.cn/kppd/kppdqxwq/kppdjckp/201212/t20121216_197356.html&sa=U&ved=2ahUKEwjR1suli4CCAxWZEFkFHZQUB-EQFnoECAAQAg&usg=AOvVaw34d_YomjLZm6TqCPMRBl_b\n",
            "標題：強烈寒流來襲！嚴防心血管疾病發作-心血管疾病患者及年長者尤應注意www.mohw.gov.tw › ...\n",
            "網址：/url?q=https://www.mohw.gov.tw/cp-2623-19639-1.html&sa=U&ved=2ahUKEwjR1suli4CCAxWZEFkFHZQUB-EQFnoECAsQAg&usg=AOvVaw3mK0n4qQwBwSZsaalfRl2-\n"
          ]
        }
      ],
      "source": [
        "import requests\n",
        "from bs4 import BeautifulSoup\n",
        "\n",
        "google_url = 'https://www.google.com.tw/search'\n",
        "my_params = {'q': '寒流'}\n",
        "r = requests.get(google_url, params = my_params)\n",
        "if r.status_code == requests.codes.ok:\n",
        "  soup = BeautifulSoup(r.text, 'html.parser')\n",
        "  items = soup.select('div.kCrYT > a[href^=\"/url\"]')\n",
        "  for i in items:\n",
        "    print(\"標題：\"+i.text)\n",
        "    print(\"網址：\"+i.get('href'))"
      ]
    }
  ]
}